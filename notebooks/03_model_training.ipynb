{
 "cells": [
  {
   "cell_type": "markdown",
   "id": "1",
   "metadata": {},
   "source": [
    "# Model Training with MLflow Tracking\n",
    "\n",
    "This notebook trains baseline models for absenteeism prediction and tracks experiments using MLflow."
   ]
  },
  {
   "cell_type": "code",
   "execution_count": 6,
   "id": "2",
   "metadata": {},
   "outputs": [
    {
     "name": "stdout",
     "output_type": "stream",
     "text": [
      "Training set: (592, 19)\n",
      "Test set: (148, 19)\n",
      "\n",
      "Features used: ['Reason for absence', 'Month of absence', 'Day of the week', 'Seasons', 'Transportation expense', 'Distance from Residence to Work', 'Service time', 'Age', 'Work load Average/day', 'Hit target', 'Disciplinary failure', 'Education', 'Son', 'Social drinker', 'Social smoker', 'Pet', 'Weight', 'Height', 'Body mass index']\n"
     ]
    }
   ],
   "source": [
    "import pandas as pd\n",
    "import numpy as np\n",
    "from sklearn.model_selection import train_test_split\n",
    "from sklearn.preprocessing import StandardScaler\n",
    "from sklearn.metrics import mean_absolute_error, mean_squared_error, r2_score\n",
    "import mlflow\n",
    "import mlflow.sklearn\n",
    "import warnings\n",
    "warnings.filterwarnings('ignore')\n",
    "\n",
    "# Load the cleaned data\n",
    "df = pd.read_csv('../data/processed/absenteeism_cleaned.csv')\n",
    "\n",
    "# Prepare features and target\n",
    "target = 'Absenteeism time in hours'\n",
    "features_to_drop = [target, 'ID', 'Has_Disciplinary_Failure', 'Is_Social_Drinker', 'Is_Social_Smoker']  # Drop duplicates\n",
    "X = df.drop(features_to_drop, axis=1)\n",
    "y = df[target]\n",
    "\n",
    "# Split the data\n",
    "X_train, X_test, y_train, y_test = train_test_split(X, y, test_size=0.2, random_state=42)\n",
    "\n",
    "# Scale features\n",
    "scaler = StandardScaler()\n",
    "X_train_scaled = scaler.fit_transform(X_train)\n",
    "X_test_scaled = scaler.transform(X_test)\n",
    "\n",
    "print(f\"Training set: {X_train.shape}\")\n",
    "print(f\"Test set: {X_test.shape}\")\n",
    "print(f\"\\nFeatures used: {list(X.columns)}\")"
   ]
  },
  {
   "cell_type": "code",
   "execution_count": 7,
   "id": "3",
   "metadata": {},
   "outputs": [
    {
     "name": "stderr",
     "output_type": "stream",
     "text": [
      "2025/10/01 14:16:09 INFO mlflow.tracking.fluent: Experiment with name 'absenteeism-prediction' does not exist. Creating a new experiment.\n"
     ]
    },
    {
     "name": "stdout",
     "output_type": "stream",
     "text": [
      "Experiment ID: 385053282433394744\n",
      "Artifact Location: file:///C:/Users/Alexis/mlops-absenteeism-project/mlruns/385053282433394744\n",
      "\n",
      "MLflow tracking setup complete!\n",
      "Experiment: absenteeism-prediction\n"
     ]
    }
   ],
   "source": [
    "# Set MLflow experiment - MUST run this cell first before any training!\n",
    "import mlflow\n",
    "\n",
    "# Set tracking URI to local directory\n",
    "mlflow.set_tracking_uri(\"file:///C:/Users/Alexis/mlops-absenteeism-project/mlruns\")\n",
    "\n",
    "# Create/set experiment\n",
    "experiment = mlflow.set_experiment(\"absenteeism-prediction\")\n",
    "print(f\"Experiment ID: {experiment.experiment_id}\")\n",
    "print(f\"Artifact Location: {experiment.artifact_location}\")\n",
    "\n",
    "# Function to evaluate models\n",
    "def evaluate_model(y_true, y_pred):\n",
    "    from sklearn.metrics import mean_absolute_error, mean_squared_error, r2_score\n",
    "    mae = mean_absolute_error(y_true, y_pred)\n",
    "    rmse = np.sqrt(mean_squared_error(y_true, y_pred))\n",
    "    r2 = r2_score(y_true, y_pred)\n",
    "    return mae, rmse, r2\n",
    "\n",
    "print(\"\\nMLflow tracking setup complete!\")\n",
    "print(f\"Experiment: absenteeism-prediction\")"
   ]
  },
  {
   "cell_type": "code",
   "execution_count": 8,
   "id": "4",
   "metadata": {},
   "outputs": [
    {
     "name": "stderr",
     "output_type": "stream",
     "text": [
      "2025/10/01 14:16:10 WARNING mlflow.models.model: `artifact_path` is deprecated. Please use `name` instead.\n",
      "2025/10/01 14:16:12 WARNING mlflow.models.model: Model logged without a signature and input example. Please set `input_example` parameter when logging the model to auto infer the model signature.\n"
     ]
    },
    {
     "name": "stdout",
     "output_type": "stream",
     "text": [
      "Linear Regression Results:\n",
      "  Train - MAE: 6.14, RMSE: 12.81, R2: 0.156\n",
      "  Test  - MAE: 5.44, RMSE: 9.96, R2: 0.090\n"
     ]
    }
   ],
   "source": [
    "from sklearn.linear_model import LinearRegression\n",
    "\n",
    "with mlflow.start_run(run_name=\"Linear_Regression\"):\n",
    "    # Train model\n",
    "    lr_model = LinearRegression()\n",
    "    lr_model.fit(X_train_scaled, y_train)\n",
    "    \n",
    "    # Predictions\n",
    "    y_pred_train = lr_model.predict(X_train_scaled)\n",
    "    y_pred_test = lr_model.predict(X_test_scaled)\n",
    "    \n",
    "    # Evaluate\n",
    "    train_mae, train_rmse, train_r2 = evaluate_model(y_train, y_pred_train)\n",
    "    test_mae, test_rmse, test_r2 = evaluate_model(y_test, y_pred_test)\n",
    "    \n",
    "    # Log parameters and metrics\n",
    "    mlflow.log_param(\"model_type\", \"LinearRegression\")\n",
    "    mlflow.log_metric(\"train_mae\", train_mae)\n",
    "    mlflow.log_metric(\"train_rmse\", train_rmse)\n",
    "    mlflow.log_metric(\"train_r2\", train_r2)\n",
    "    mlflow.log_metric(\"test_mae\", test_mae)\n",
    "    mlflow.log_metric(\"test_rmse\", test_rmse)\n",
    "    mlflow.log_metric(\"test_r2\", test_r2)\n",
    "    \n",
    "    # Log model\n",
    "    mlflow.sklearn.log_model(lr_model, \"model\")\n",
    "    \n",
    "    print(f\"Linear Regression Results:\")\n",
    "    print(f\"  Train - MAE: {train_mae:.2f}, RMSE: {train_rmse:.2f}, R2: {train_r2:.3f}\")\n",
    "    print(f\"  Test  - MAE: {test_mae:.2f}, RMSE: {test_rmse:.2f}, R2: {test_r2:.3f}\")"
   ]
  },
  {
   "cell_type": "code",
   "execution_count": 9,
   "id": "5",
   "metadata": {},
   "outputs": [
    {
     "name": "stderr",
     "output_type": "stream",
     "text": [
      "2025/10/01 14:16:13 WARNING mlflow.models.model: `artifact_path` is deprecated. Please use `name` instead.\n",
      "2025/10/01 14:16:16 WARNING mlflow.models.model: Model logged without a signature and input example. Please set `input_example` parameter when logging the model to auto infer the model signature.\n"
     ]
    },
    {
     "name": "stdout",
     "output_type": "stream",
     "text": [
      "Random Forest Results:\n",
      "  Train - MAE: 2.66, RMSE: 5.70, R2: 0.833\n",
      "  Test  - MAE: 5.33, RMSE: 12.28, R2: -0.384\n"
     ]
    }
   ],
   "source": [
    "from sklearn.ensemble import RandomForestRegressor\n",
    "\n",
    "with mlflow.start_run(run_name=\"Random_Forest\"):\n",
    "    # Train model\n",
    "    rf_model = RandomForestRegressor(n_estimators=100, random_state=42, max_depth=10)\n",
    "    rf_model.fit(X_train_scaled, y_train)\n",
    "    \n",
    "    # Predictions\n",
    "    y_pred_train = rf_model.predict(X_train_scaled)\n",
    "    y_pred_test = rf_model.predict(X_test_scaled)\n",
    "    \n",
    "    # Evaluate\n",
    "    train_mae, train_rmse, train_r2 = evaluate_model(y_train, y_pred_train)\n",
    "    test_mae, test_rmse, test_r2 = evaluate_model(y_test, y_pred_test)\n",
    "    \n",
    "    # Log parameters and metrics\n",
    "    mlflow.log_param(\"model_type\", \"RandomForest\")\n",
    "    mlflow.log_param(\"n_estimators\", 100)\n",
    "    mlflow.log_param(\"max_depth\", 10)\n",
    "    mlflow.log_metric(\"train_mae\", train_mae)\n",
    "    mlflow.log_metric(\"train_rmse\", train_rmse)\n",
    "    mlflow.log_metric(\"train_r2\", train_r2)\n",
    "    mlflow.log_metric(\"test_mae\", test_mae)\n",
    "    mlflow.log_metric(\"test_rmse\", test_rmse)\n",
    "    mlflow.log_metric(\"test_r2\", test_r2)\n",
    "    \n",
    "    # Log model\n",
    "    mlflow.sklearn.log_model(rf_model, \"model\")\n",
    "    \n",
    "    print(f\"Random Forest Results:\")\n",
    "    print(f\"  Train - MAE: {train_mae:.2f}, RMSE: {train_rmse:.2f}, R2: {train_r2:.3f}\")\n",
    "    print(f\"  Test  - MAE: {test_mae:.2f}, RMSE: {test_rmse:.2f}, R2: {test_r2:.3f}\")"
   ]
  },
  {
   "cell_type": "code",
   "execution_count": 10,
   "id": "6",
   "metadata": {},
   "outputs": [
    {
     "name": "stdout",
     "output_type": "stream",
     "text": [
      "==================================================\n",
      "BEST MODEL SUMMARY\n",
      "==================================================\n",
      "Model Type: LinearRegression\n",
      "Test R²: 0.090\n",
      "Test MAE: 5.44 hours\n",
      "Test RMSE: 9.96 hours\n",
      "\n",
      "To view all experiments in MLflow UI, run: mlflow ui\n"
     ]
    }
   ],
   "source": [
    "# Get the best run\n",
    "runs = mlflow.search_runs(experiment_names=[\"absenteeism-prediction\"])\n",
    "best_run = runs.loc[runs['metrics.test_r2'].idxmax()]\n",
    "\n",
    "print(\"=\"*50)\n",
    "print(\"BEST MODEL SUMMARY\")\n",
    "print(\"=\"*50)\n",
    "print(f\"Model Type: {best_run['params.model_type']}\")\n",
    "print(f\"Test R²: {best_run['metrics.test_r2']:.3f}\")\n",
    "print(f\"Test MAE: {best_run['metrics.test_mae']:.2f} hours\")\n",
    "print(f\"Test RMSE: {best_run['metrics.test_rmse']:.2f} hours\")\n",
    "print(\"\\nTo view all experiments in MLflow UI, run: mlflow ui\")"
   ]
  }
 ],
 "metadata": {
  "kernelspec": {
   "display_name": "MLOps-venv",
   "language": "python",
   "name": "mlops-venv"
  },
  "language_info": {
   "codemirror_mode": {
    "name": "ipython",
    "version": 3
   },
   "file_extension": ".py",
   "mimetype": "text/x-python",
   "name": "python",
   "nbconvert_exporter": "python",
   "pygments_lexer": "ipython3",
   "version": "3.13.5"
  }
 },
 "nbformat": 4,
 "nbformat_minor": 5
}
