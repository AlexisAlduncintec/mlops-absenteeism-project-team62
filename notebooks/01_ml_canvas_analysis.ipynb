{
 "cells": [
  {
   "cell_type": "code",
   "execution_count": 1,
   "id": "354b13bb-0663-4567-813f-63e16946ad6c",
   "metadata": {},
   "outputs": [
    {
     "ename": "ModuleNotFoundError",
     "evalue": "No module named 'pandas'",
     "output_type": "error",
     "traceback": [
      "\u001b[31m---------------------------------------------------------------------------\u001b[39m",
      "\u001b[31mModuleNotFoundError\u001b[39m                       Traceback (most recent call last)",
      "\u001b[36mCell\u001b[39m\u001b[36m \u001b[39m\u001b[32mIn[1]\u001b[39m\u001b[32m, line 1\u001b[39m\n\u001b[32m----> \u001b[39m\u001b[32m1\u001b[39m \u001b[38;5;28;01mimport\u001b[39;00m\u001b[38;5;250m \u001b[39m\u001b[34;01mpandas\u001b[39;00m\u001b[38;5;250m \u001b[39m\u001b[38;5;28;01mas\u001b[39;00m\u001b[38;5;250m \u001b[39m\u001b[34;01mpd\u001b[39;00m\n\u001b[32m      2\u001b[39m \u001b[38;5;28;01mimport\u001b[39;00m\u001b[38;5;250m \u001b[39m\u001b[34;01mnumpy\u001b[39;00m\u001b[38;5;250m \u001b[39m\u001b[38;5;28;01mas\u001b[39;00m\u001b[38;5;250m \u001b[39m\u001b[34;01mnp\u001b[39;00m\n\u001b[32m      3\u001b[39m \u001b[38;5;28;01mimport\u001b[39;00m\u001b[38;5;250m \u001b[39m\u001b[34;01mmatplotlib\u001b[39;00m\u001b[34;01m.\u001b[39;00m\u001b[34;01mpyplot\u001b[39;00m\u001b[38;5;250m \u001b[39m\u001b[38;5;28;01mas\u001b[39;00m\u001b[38;5;250m \u001b[39m\u001b[34;01mplt\u001b[39;00m\n",
      "\u001b[31mModuleNotFoundError\u001b[39m: No module named 'pandas'"
     ]
    }
   ],
   "source": [
    "import pandas as pd\n",
    "import numpy as np\n",
    "import matplotlib.pyplot as plt\n",
    "import seaborn as sns\n",
    "import warnings\n",
    "warnings.filterwarnings('ignore')\n",
    "\n",
    "# Load the dataset\n",
    "df = pd.read_csv('../data/raw/Absenteeism_at_work.csv')\n",
    "print(f\"Dataset shape: {df.shape}\")\n",
    "df.head()"
   ]
  },
  {
   "cell_type": "code",
   "execution_count": 2,
   "id": "b16ad4fa-6bab-4d4a-a725-3731adbd9dee",
   "metadata": {},
   "outputs": [
    {
     "ename": "SyntaxError",
     "evalue": "invalid character '²' (U+00B2) (2617903107.py, line 31)",
     "output_type": "error",
     "traceback": [
      "  \u001b[36mCell\u001b[39m\u001b[36m \u001b[39m\u001b[32mIn[2]\u001b[39m\u001b[32m, line 31\u001b[39m\n\u001b[31m    \u001b[39m\u001b[31m- R² Score\u001b[39m\n       ^\n\u001b[31mSyntaxError\u001b[39m\u001b[31m:\u001b[39m invalid character '²' (U+00B2)\n"
     ]
    }
   ],
   "source": [
    "# ML Canvas - Absenteeism at Work Prediction System\n",
    "\n",
    "## 1. VALUE PROPOSITION\n",
    "**Problem Statement:** \n",
    "- Companies face productivity losses due to unexpected employee absenteeism\n",
    "- HR departments struggle to predict and plan for workforce availability\n",
    "- Current manual tracking methods are reactive, not proactive\n",
    "\n",
    "**Proposed ML Solution:**\n",
    "- Predict hours of absenteeism based on employee characteristics and patterns\n",
    "- Enable proactive workforce planning and resource allocation\n",
    "- Identify high-risk factors for absenteeism to inform HR policies\n",
    "\n",
    "## 2. DATA SOURCES\n",
    "- **Input Data:** Employee records from Brazilian courier company (2007-2010)\n",
    "- **Features:** 20 attributes including personal, work, and health-related factors\n",
    "- **Target Variable:** Absenteeism time in hours\n",
    "\n",
    "## 3. PREDICTION TASK\n",
    "- **Type:** Regression (predicting hours of absence)\n",
    "- **Alternative:** Classification (categorizing absence risk levels: Low/Medium/High)\n",
    "\n",
    "## 4. BUSINESS METRICS\n",
    "- Reduction in unplanned workforce shortage incidents\n",
    "- Cost savings from better resource allocation\n",
    "- Improved employee satisfaction through better support programs\n",
    "\n",
    "## 5. ML METRICS\n",
    "- MAE (Mean Absolute Error) for regression\n",
    "- RMSE (Root Mean Square Error)\n",
    "- R² Score\n",
    "- For classification: Precision, Recall, F1-Score\n",
    "\n",
    "## 6. STAKEHOLDERS\n",
    "- HR Department (primary users)\n",
    "- Operations Management (workforce planning)\n",
    "- Employees (support programs)\n",
    "- Finance (cost impact analysis)\n",
    "\n",
    "## 7. DEPLOYMENT\n",
    "- Batch predictions: Monthly/weekly planning reports\n",
    "- Real-time API: For immediate risk assessment\n",
    "- Integration with HR management systems\n",
    "\n",
    "## 8. RISKS & ASSUMPTIONS\n",
    "- **Risks:** \n",
    "  - Privacy concerns with personal data\n",
    "  - Potential bias against certain employee groups\n",
    "  - Model may not generalize to other companies/cultures\n",
    "- **Assumptions:**\n",
    "  - Historical patterns will continue\n",
    "  - Data quality is reliable\n",
    "  - Company policies remain relatively stable"
   ]
  },
  {
   "cell_type": "code",
   "execution_count": 3,
   "id": "68cff0e4-3da3-48f1-ac4a-70eb7c44940f",
   "metadata": {},
   "outputs": [
    {
     "name": "stdout",
     "output_type": "stream",
     "text": [
      "Dataset Info:\n"
     ]
    },
    {
     "ename": "NameError",
     "evalue": "name 'df' is not defined",
     "output_type": "error",
     "traceback": [
      "\u001b[31m---------------------------------------------------------------------------\u001b[39m",
      "\u001b[31mNameError\u001b[39m                                 Traceback (most recent call last)",
      "\u001b[36mCell\u001b[39m\u001b[36m \u001b[39m\u001b[32mIn[3]\u001b[39m\u001b[32m, line 3\u001b[39m\n\u001b[32m      1\u001b[39m \u001b[38;5;66;03m# Basic dataset information\u001b[39;00m\n\u001b[32m      2\u001b[39m \u001b[38;5;28mprint\u001b[39m(\u001b[33m\"\u001b[39m\u001b[33mDataset Info:\u001b[39m\u001b[33m\"\u001b[39m)\n\u001b[32m----> \u001b[39m\u001b[32m3\u001b[39m \u001b[38;5;28mprint\u001b[39m(\u001b[43mdf\u001b[49m.info())\n\u001b[32m      4\u001b[39m \u001b[38;5;28mprint\u001b[39m(\u001b[33m\"\u001b[39m\u001b[38;5;130;01m\\n\u001b[39;00m\u001b[33m\"\u001b[39m + \u001b[33m\"\u001b[39m\u001b[33m=\u001b[39m\u001b[33m\"\u001b[39m*\u001b[32m50\u001b[39m + \u001b[33m\"\u001b[39m\u001b[38;5;130;01m\\n\u001b[39;00m\u001b[33m\"\u001b[39m)\n\u001b[32m      5\u001b[39m \u001b[38;5;28mprint\u001b[39m(\u001b[33m\"\u001b[39m\u001b[33mMissing Values:\u001b[39m\u001b[33m\"\u001b[39m)\n",
      "\u001b[31mNameError\u001b[39m: name 'df' is not defined"
     ]
    }
   ],
   "source": [
    "# Basic dataset information\n",
    "print(\"Dataset Info:\")\n",
    "print(df.info())\n",
    "print(\"\\n\" + \"=\"*50 + \"\\n\")\n",
    "print(\"Missing Values:\")\n",
    "print(df.isnull().sum())"
   ]
  },
  {
   "cell_type": "code",
   "execution_count": null,
   "id": "3a22d870-0934-4441-8394-9725db333a64",
   "metadata": {},
   "outputs": [],
   "source": []
  },
  {
   "cell_type": "code",
   "execution_count": null,
   "id": "f0b137ca-7f75-445c-973e-224f6d5a3b86",
   "metadata": {},
   "outputs": [],
   "source": []
  }
 ],
 "metadata": {
  "kernelspec": {
   "display_name": "Python (venv)",
   "language": "python",
   "name": "venv"
  },
  "language_info": {
   "codemirror_mode": {
    "name": "ipython",
    "version": 3
   },
   "file_extension": ".py",
   "mimetype": "text/x-python",
   "name": "python",
   "nbconvert_exporter": "python",
   "pygments_lexer": "ipython3",
   "version": "3.13.5"
  }
 },
 "nbformat": 4,
 "nbformat_minor": 5
}
